{
 "cells": [
  {
   "cell_type": "code",
   "execution_count": 2,
   "metadata": {
    "executionInfo": {
     "elapsed": 265,
     "status": "ok",
     "timestamp": 1630911016560,
     "user": {
      "displayName": "Kyungho Won",
      "photoUrl": "https://lh3.googleusercontent.com/a-/AOh14GjFDtLYzIB3ExPPuLRrY7LEt8jAOx_pz5B5UU4z1Q=s64",
      "userId": "05826323827943571801"
     },
     "user_tz": -540
    },
    "id": "Uc01fbIjpD_z"
   },
   "outputs": [],
   "source": [
    "import mat73\n",
    "import scipy\n",
    "import scipy.io as sio # cannot use for v7.3 mat file\n",
    "import numpy as np\n",
    "import matplotlib.pyplot as plt"
   ]
  },
  {
   "cell_type": "code",
   "execution_count": 3,
   "metadata": {
    "executionInfo": {
     "elapsed": 812,
     "status": "ok",
     "timestamp": 1630911022642,
     "user": {
      "displayName": "Kyungho Won",
      "photoUrl": "https://lh3.googleusercontent.com/a-/AOh14GjFDtLYzIB3ExPPuLRrY7LEt8jAOx_pz5B5UU4z1Q=s64",
      "userId": "05826323827943571801"
     },
     "user_tz": -540
    },
    "id": "aY3JveEw27QL"
   },
   "outputs": [],
   "source": [
    "# filtering\n",
    "from scipy.signal import butter, filtfilt\n",
    "\n",
    "def butter_lowpass_filter(data, lowcut, fs, order):\n",
    "  nyq = fs/2\n",
    "  low = lowcut/nyq\n",
    "  b, a = butter(order, low, btype='low')\n",
    "  y = filtfilt(b, a, data) # zero-phase filter # data: [ch x time]\n",
    "  return y\n",
    "\n",
    "def butter_highpass_filter(data, highcut, fs, order):\n",
    "  nyq = fs/2\n",
    "  high = highcut/nyq\n",
    "  b, a = butter(order, high, btype='high')\n",
    "  y = filtfilt(b, a, data) # zero-phase filter\n",
    "  return y\n",
    "\n",
    "def butter_bandpass_filter(data, lowcut, highcut, fs, order):\n",
    "  nyq = fs/2\n",
    "  low = lowcut/nyq\n",
    "  high = highcut/nyq\n",
    "  b, a = butter(order, [low, high], btype='band')\n",
    "  # demean before filtering\n",
    "  meandat = np.mean(data, axis=1)\n",
    "  data = data - meandat[:, np.newaxis]\n",
    "  y = filtfilt(b, a, data)\n",
    "  return y"
   ]
  },
  {
   "cell_type": "code",
   "execution_count": 5,
   "metadata": {
    "executionInfo": {
     "elapsed": 274,
     "status": "ok",
     "timestamp": 1630911105464,
     "user": {
      "displayName": "Kyungho Won",
      "photoUrl": "https://lh3.googleusercontent.com/a-/AOh14GjFDtLYzIB3ExPPuLRrY7LEt8jAOx_pz5B5UU4z1Q=s64",
      "userId": "05826323827943571801"
     },
     "user_tz": -540
    },
    "id": "oNailpnQ4IHn"
   },
   "outputs": [],
   "source": [
    "def extractEpoch3D(data, event, srate, baseline, frame, opt_keep_baseline):\n",
    "  # extract epoch from 2D data into 3D [ch x time x trial]\n",
    "  # input: event, baseline, frame\n",
    "  # extract epoch = baseline[0] to frame[2]\n",
    "\n",
    "  # for memory pre-allocation\n",
    "  if opt_keep_baseline == True:\n",
    "    begin_tmp = int(np.floor(baseline[0]/1000*srate))\n",
    "    end_tmp = int(begin_tmp+np.floor(frame[1]-baseline[0])/1000*srate)\n",
    "  else:\n",
    "    begin_tmp = int(np.floor(frame[0]/1000*srate))\n",
    "    end_tmp = int(begin_tmp+np.floor(frame[1]-frame[0])/1000*srate)\n",
    "  \n",
    "  epoch3D = np.zeros((data.shape[0], end_tmp-begin_tmp, len(event)))\n",
    "  nth_event = 0\n",
    "\n",
    "  for i in event:\n",
    "    if opt_keep_baseline == True:\n",
    "      begin_id = int(i + np.floor(baseline[0]/1000 * srate))\n",
    "      end_id = int(begin_id + np.floor((frame[1]-baseline[0])/1000*srate))\n",
    "    else:\n",
    "      begin_id = int(i + np.floor(frame[0]/1000 * srate))\n",
    "      end_id = int(begin_id + np.floor((frame[1]-frame[0])/1000*srate))\n",
    "    \n",
    "    tmp_data = data[:, begin_id:end_id]\n",
    "\n",
    "    begin_base = int(np.floor(baseline[0]/1000 * srate))\n",
    "    end_base = int(begin_base + np.floor(np.diff(baseline)/1000 * srate)-1)\n",
    "    base = np.mean(tmp_data[:, begin_base:end_base], axis=1)\n",
    "\n",
    "    rmbase_data = tmp_data - base[:, np.newaxis]\n",
    "    epoch3D[:, :, nth_event] = rmbase_data\n",
    "    nth_event = nth_event + 1\n",
    "\n",
    "  return epoch3D"
   ]
  },
  {
   "cell_type": "code",
   "execution_count": 6,
   "metadata": {
    "executionInfo": {
     "elapsed": 5583,
     "status": "ok",
     "timestamp": 1630915411714,
     "user": {
      "displayName": "Kyungho Won",
      "photoUrl": "https://lh3.googleusercontent.com/a-/AOh14GjFDtLYzIB3ExPPuLRrY7LEt8jAOx_pz5B5UU4z1Q=s64",
      "userId": "05826323827943571801"
     },
     "user_tz": -540
    },
    "id": "UbWgIdXGPWMv"
   },
   "outputs": [],
   "source": [
    "EEG = mat73.loadmat(\"C:/Users/ryoii/OneDrive/Documents/GitHub/P300Speller_2_electrodes/Python/data/s48.mat\")"
   ]
  },
  {
   "cell_type": "markdown",
   "metadata": {
    "id": "Z1Injl_jrkAR"
   },
   "source": [
    "1. For using mat73, data distributor should save mat file using '-v7.3'\n",
    "2. After loading a file, data filed names are displayed using keys() function, otherwise it prints all names and values at the same time.\n",
    "3. This dataset consists of structural cell array so their should be a few indicies"
   ]
  },
  {
   "cell_type": "code",
   "execution_count": 7,
   "metadata": {
    "colab": {
     "base_uri": "https://localhost:8080/"
    },
    "executionInfo": {
     "elapsed": 461,
     "status": "ok",
     "timestamp": 1630406846444,
     "user": {
      "displayName": "Kyungho Won",
      "photoUrl": "https://lh3.googleusercontent.com/a-/AOh14GjFDtLYzIB3ExPPuLRrY7LEt8jAOx_pz5B5UU4z1Q=s64",
      "userId": "05826323827943571801"
     },
     "user_tz": -540
    },
    "id": "ZOS4jFFonVko",
    "outputId": "0a817415-56af-402d-e754-15640136b53b"
   },
   "outputs": [
    {
     "data": {
      "text/plain": [
       "dict_keys(['chanlocs', 'data', 'markers_seq', 'markers_target', 'nbTrials', 'nbTrials_nontarget', 'nbTrials_target', 'online_acc', 'srate', 'text_result', 'text_to_spell'])"
      ]
     },
     "execution_count": 7,
     "metadata": {},
     "output_type": "execute_result"
    }
   ],
   "source": [
    "EEG.keys()\n",
    "EEG['RSVP'].keys()\n",
    "EEG['test'][0].keys()\n",
    "EEG['train'][0].keys()"
   ]
  },
  {
   "cell_type": "code",
   "execution_count": 8,
   "metadata": {
    "executionInfo": {
     "elapsed": 403,
     "status": "ok",
     "timestamp": 1630911083121,
     "user": {
      "displayName": "Kyungho Won",
      "photoUrl": "https://lh3.googleusercontent.com/a-/AOh14GjFDtLYzIB3ExPPuLRrY7LEt8jAOx_pz5B5UU4z1Q=s64",
      "userId": "05826323827943571801"
     },
     "user_tz": -540
    },
    "id": "t6nj0cojlqIP"
   },
   "outputs": [],
   "source": [
    "# Parameters\n",
    "baseline = [-200, 0] # in ms\n",
    "frame = [0, 600] # in ms"
   ]
  },
  {
   "cell_type": "code",
   "execution_count": 9,
   "metadata": {
    "colab": {
     "base_uri": "https://localhost:8080/"
    },
    "executionInfo": {
     "elapsed": 1393,
     "status": "ok",
     "timestamp": 1630915424841,
     "user": {
      "displayName": "Kyungho Won",
      "photoUrl": "https://lh3.googleusercontent.com/a-/AOh14GjFDtLYzIB3ExPPuLRrY7LEt8jAOx_pz5B5UU4z1Q=s64",
      "userId": "05826323827943571801"
     },
     "user_tz": -540
    },
    "id": "DIWucqzWkuoz",
    "outputId": "667efb3f-2beb-4c0a-dd2b-7234971ab057"
   },
   "outputs": [
    {
     "name": "stderr",
     "output_type": "stream",
     "text": [
      "C:\\Users\\ryoii\\AppData\\Local\\Temp\\ipykernel_19196\\2827597032.py:28: DeprecationWarning: Conversion of an array with ndim > 0 to a scalar is deprecated, and will error in future. Ensure you extract a single element from your array before performing this operation. (Deprecated NumPy 1.25.)\n",
      "  end_base = int(begin_base + np.floor(np.diff(baseline)/1000 * srate)-1)\n"
     ]
    },
    {
     "name": "stdout",
     "output_type": "stream",
     "text": [
      "(32, 307, 300)\n",
      "(32, 307, 1500)\n"
     ]
    }
   ],
   "source": [
    "# pre-processing for training data\n",
    "for n_calib in range(len(EEG['train'])):\n",
    "  data = np.asarray(EEG['train'][n_calib]['data'])\n",
    "  srate = EEG['train'][n_calib]['srate']\n",
    "  data = butter_bandpass_filter(data, 0.5, 10, srate, 4)\n",
    "  markers = EEG['train'][n_calib]['markers_target']\n",
    "\n",
    "  targetID = np.where(markers==1)[0]\n",
    "  nontargetID = np.where(markers==2)[0]\n",
    "\n",
    "  tmp_targetEEG = extractEpoch3D(data, targetID, srate, baseline, frame, False)\n",
    "  tmp_nontargetEEG = extractEpoch3D(data, nontargetID, srate, baseline, frame, False)\n",
    "  if n_calib == 0:\n",
    "    targetEEG = tmp_targetEEG\n",
    "    nontargetEEG = tmp_nontargetEEG\n",
    "  else:\n",
    "    targetEEG = np.dstack((targetEEG, tmp_targetEEG))\n",
    "    nontargetEEG = np.dstack((nontargetEEG, tmp_nontargetEEG))\n",
    "  \n",
    "print(targetEEG.shape)\n",
    "print(nontargetEEG.shape)"
   ]
  },
  {
   "cell_type": "code",
   "execution_count": 10,
   "metadata": {
    "colab": {
     "base_uri": "https://localhost:8080/"
    },
    "executionInfo": {
     "elapsed": 3215,
     "status": "ok",
     "timestamp": 1630911148561,
     "user": {
      "displayName": "Kyungho Won",
      "photoUrl": "https://lh3.googleusercontent.com/a-/AOh14GjFDtLYzIB3ExPPuLRrY7LEt8jAOx_pz5B5UU4z1Q=s64",
      "userId": "05826323827943571801"
     },
     "user_tz": -540
    },
    "id": "DRBPJGbyp9SJ",
    "outputId": "0ce5d2e1-969c-414e-f7de-dc894e537d47"
   },
   "outputs": [
    {
     "name": "stderr",
     "output_type": "stream",
     "text": [
      "C:\\Users\\ryoii\\AppData\\Local\\Temp\\ipykernel_19196\\2827597032.py:28: DeprecationWarning: Conversion of an array with ndim > 0 to a scalar is deprecated, and will error in future. Ensure you extract a single element from your array before performing this operation. (Deprecated NumPy 1.25.)\n",
      "  end_base = int(begin_base + np.floor(np.diff(baseline)/1000 * srate)-1)\n"
     ]
    },
    {
     "name": "stdout",
     "output_type": "stream",
     "text": [
      "(32, 307, 840)\n",
      "(32, 307, 4200)\n"
     ]
    }
   ],
   "source": [
    "# pre-processing for test data\n",
    "for n_test in range(len(EEG['test'])):\n",
    "  data = np.asarray(EEG['test'][n_calib]['data'])\n",
    "  srate = EEG['test'][n_calib]['srate']\n",
    "  data = butter_bandpass_filter(data, 0.5, 10, srate, 4)\n",
    "  markers = EEG['test'][n_calib]['markers_target']\n",
    "\n",
    "  targetID = np.where(markers==1)[0]\n",
    "  nontargetID = np.where(markers==2)[0]\n",
    "\n",
    "  tmp_targetEEG = extractEpoch3D(data, targetID, srate, baseline, frame, False)\n",
    "  tmp_nontargetEEG = extractEpoch3D(data, nontargetID, srate, baseline, frame, False)\n",
    "  if n_test == 0:\n",
    "    targetEEG = tmp_targetEEG\n",
    "    nontargetEEG = tmp_nontargetEEG\n",
    "  else:\n",
    "    targetEEG = np.dstack((targetEEG, tmp_targetEEG))\n",
    "    nontargetEEG = np.dstack((nontargetEEG, tmp_nontargetEEG))\n",
    "\n",
    "print(targetEEG.shape)\n",
    "print(nontargetEEG.shape)"
   ]
  },
  {
   "cell_type": "code",
   "execution_count": 14,
   "metadata": {
    "colab": {
     "base_uri": "https://localhost:8080/",
     "height": 285
    },
    "executionInfo": {
     "elapsed": 1497,
     "status": "ok",
     "timestamp": 1630569506231,
     "user": {
      "displayName": "Kyungho Won",
      "photoUrl": "https://lh3.googleusercontent.com/a-/AOh14GjFDtLYzIB3ExPPuLRrY7LEt8jAOx_pz5B5UU4z1Q=s64",
      "userId": "05826323827943571801"
     },
     "user_tz": -540
    },
    "id": "EVCWdmjywJ9S",
    "outputId": "4eb243e5-e377-42e8-c693-999d97b0aa40"
   },
   "outputs": [
    {
     "data": {
      "image/png": "[encoded data removed]",
      "text/plain": [
       "<Figure size 640x480 with 1 Axes>"
      ]
     },
     "metadata": {},
     "output_type": "display_data"
    }
   ],
   "source": [
    "data = EEG['train'][0]['data']\n",
    "srate = EEG['train'][0]['srate']\n",
    "y = np.asarray(data)\n",
    "y = butter_bandpass_filter(y, 1, 40, srate, 4)\n",
    "yt = np.transpose(y)\n",
    "x=range(yt.shape[0]) / srate\n",
    "\n",
    "plt.plot(x, yt)\n",
    "plt.xlabel('time (s)')\n",
    "plt.show()"
   ]
  },
  {
   "cell_type": "markdown",
   "metadata": {
    "id": "dR2qPvG6tFwF"
   },
   "source": [
    "Draw ERP"
   ]
  },
  {
   "cell_type": "code",
   "execution_count": 15,
   "metadata": {
    "colab": {
     "base_uri": "https://localhost:8080/",
     "height": 285
    },
    "executionInfo": {
     "elapsed": 468,
     "status": "ok",
     "timestamp": 1630569902522,
     "user": {
      "displayName": "Kyungho Won",
      "photoUrl": "https://lh3.googleusercontent.com/a-/AOh14GjFDtLYzIB3ExPPuLRrY7LEt8jAOx_pz5B5UU4z1Q=s64",
      "userId": "05826323827943571801"
     },
     "user_tz": -540
    },
    "id": "QnwIQbleMaiR",
    "outputId": "35ace1b1-6269-4ceb-852e-a61d380214ab"
   },
   "outputs": [
    {
     "data": {
      "image/png": "[encoded data removed]",
      "text/plain": [
       "<Figure size 640x480 with 1 Axes>"
      ]
     },
     "metadata": {},
     "output_type": "display_data"
    }
   ],
   "source": [
    "avg_target = np.mean(targetEEG, axis=2)\n",
    "avg_nontarget = np.mean(nontargetEEG, axis=2)\n",
    "\n",
    "# averaged target & nontarget ERPs - visualization\n",
    "t = np.linspace(-200, 1000, avg_target.shape[1])\n",
    "plt.plot(t, avg_target[31, :].transpose(), color=[1, 0.5, 0])\n",
    "plt.plot(t, avg_nontarget[31, :].transpose(), color=[0, 0, 0])\n",
    "plt.xlabel('ms')\n",
    "plt.ylabel(r'$\\mu V$')\n",
    "plt.gca().yaxis.grid(True)\n",
    "plt.rcParams.update({'font.size': 13})\n",
    "plt.xlim([-200, 1000])\n",
    "plt.gca().pbasepect = np.array([2, 1, 1])\n",
    "plt.show()"
   ]
  },
  {
   "cell_type": "code",
   "execution_count": 16,
   "metadata": {
    "colab": {
     "base_uri": "https://localhost:8080/"
    },
    "executionInfo": {
     "elapsed": 2447,
     "status": "ok",
     "timestamp": 1630415583958,
     "user": {
      "displayName": "Kyungho Won",
      "photoUrl": "https://lh3.googleusercontent.com/a-/AOh14GjFDtLYzIB3ExPPuLRrY7LEt8jAOx_pz5B5UU4z1Q=s64",
      "userId": "05826323827943571801"
     },
     "user_tz": -540
    },
    "id": "JZy27QpmVwu_",
    "outputId": "df3574e4-7beb-4753-f622-29a58bd75498"
   },
   "outputs": [
    {
     "name": "stdout",
     "output_type": "stream",
     "text": [
      "Automatically created module for IPython interactive environment\n"
     ]
    }
   ],
   "source": [
    "import mne\n",
    "print(__doc__)"
   ]
  },
  {
   "cell_type": "code",
   "execution_count": 17,
   "metadata": {
    "colab": {
     "base_uri": "https://localhost:8080/"
    },
    "executionInfo": {
     "elapsed": 401,
     "status": "ok",
     "timestamp": 1630416570356,
     "user": {
      "displayName": "Kyungho Won",
      "photoUrl": "https://lh3.googleusercontent.com/a-/AOh14GjFDtLYzIB3ExPPuLRrY7LEt8jAOx_pz5B5UU4z1Q=s64",
      "userId": "05826323827943571801"
     },
     "user_tz": -540
    },
    "id": "ESK7jzFAV28E",
    "outputId": "3cdfe005-ebc1-4a20-94ba-4d96c9a2c95d"
   },
   "outputs": [
    {
     "data": {
      "text/html": [
       "<script type=\"text/javascript\">\n",
       "    // must be `var` (not `const`) because this can get embedded multiple times on a page\n",
       "var toggleVisibility = (className) => {\n",
       "\n",
       "    const elements = document.querySelectorAll(`.${className}`);\n",
       "\n",
       "    elements.forEach(element => {\n",
       "        if (element.classList.contains(\"mne-repr-section-header\")) {\n",
       "            return  // Don't collapse the section header row\n",
       "        }\n",
       "        element.classList.toggle(\"mne-repr-collapsed\");\n",
       "    });\n",
       "\n",
       "    // trigger caret to rotate\n",
       "    var sel = `.mne-repr-section-header.${className} > th.mne-repr-section-toggle > button`;\n",
       "    const button = document.querySelector(sel);\n",
       "    button.classList.toggle(\"collapsed\");\n",
       "\n",
       "    // adjust tooltip\n",
       "    sel = `tr.mne-repr-section-header.${className}`;\n",
       "    const secHeadRow = document.querySelector(sel);\n",
       "    secHeadRow.classList.toggle(\"collapsed\");\n",
       "    secHeadRow.title = secHeadRow.title === \"Hide section\" ? \"Show section\" : \"Hide section\";\n",
       "}\n",
       "</script>\n",
       "\n",
       "<style type=\"text/css\">\n",
       "    /*\n",
       "Styles in this section apply both to the sphinx-built website docs and to notebooks\n",
       "rendered in an IDE or in Jupyter. In our web docs, styles here are complemented by\n",
       "doc/_static/styles.css and other CSS files (e.g. from the sphinx theme, sphinx-gallery,\n",
       "or bootstrap). In IDEs/Jupyter, those style files are unavailable, so only the rules in\n",
       "this file apply (plus whatever default styling the IDE applies).\n",
       "*/\n",
       ".mne-repr-table {\n",
       "    display: inline;  /* prevent using full container width */\n",
       "}\n",
       ".mne-repr-table tr.mne-repr-section-header > th {\n",
       "    padding-top: 1rem;\n",
       "    text-align: left;\n",
       "    vertical-align: middle;\n",
       "}\n",
       ".mne-repr-section-toggle > button {\n",
       "    all: unset;\n",
       "    display: block;\n",
       "    height: 1rem;\n",
       "    width: 1rem;\n",
       "}\n",
       ".mne-repr-section-toggle > button > svg {\n",
       "    height: 60%;\n",
       "}\n",
       "\n",
       "/* transition (rotation) effects on the collapser button */\n",
       ".mne-repr-section-toggle > button.collapsed > svg {\n",
       "    transition: 0.1s ease-out;\n",
       "    transform: rotate(-90deg);\n",
       "}\n",
       ".mne-repr-section-toggle > button:not(.collapsed) > svg {\n",
       "    transition: 0.1s ease-out;\n",
       "    transform: rotate(0deg);\n",
       "}\n",
       "\n",
       "/* hide collapsed table rows */\n",
       ".mne-repr-collapsed {\n",
       "    display: none;\n",
       "}\n",
       "\n",
       "\n",
       "@layer {\n",
       "    /*\n",
       "    Selectors in a `@layer` will always be lower-precedence than selectors outside the\n",
       "    layer. So even though e.g. `div.output_html` is present in the sphinx-rendered\n",
       "    website docs, the styles here won't take effect there as long as some other rule\n",
       "    somewhere in the page's CSS targets the same element.\n",
       "\n",
       "    In IDEs or Jupyter notebooks, though, the CSS files from the sphinx theme,\n",
       "    sphinx-gallery, and bootstrap are unavailable, so these styles will apply.\n",
       "\n",
       "    Notes:\n",
       "\n",
       "    - the selector `.accordion-body` is for MNE Reports\n",
       "    - the selector `.output_html` is for VSCode's notebook interface\n",
       "    - the selector `.jp-RenderedHTML` is for Jupyter notebook\n",
       "    - variables starting with `--theme-` are VSCode-specific.\n",
       "    - variables starting with `--jp-` are Jupyter styles, *some of which* are also\n",
       "      available in VSCode. Here we try the `--theme-` variable first, then fall back to\n",
       "      the `--jp-` ones.\n",
       "    */\n",
       "    .mne-repr-table {\n",
       "        --mne-toggle-color: var(--theme-foreground, var(--jp-ui-font-color1));\n",
       "        --mne-button-bg-color: var(--theme-button-background, var(--jp-info-color0, var(--jp-content-link-color)));\n",
       "        --mne-button-fg-color: var(--theme-button-foreground, var(--jp-ui-inverse-font-color0, var(--jp-editor-background)));\n",
       "        --mne-button-hover-bg-color: var(--theme-button-hover-background, var(--jp-info-color1));\n",
       "        --mne-button-radius: var(--jp-border-radius, 0.25rem);\n",
       "    }\n",
       "    /* chevron position/alignment; in VSCode it looks ok without adjusting */\n",
       "    .accordion-body .mne-repr-section-toggle > button,\n",
       "    .jp-RenderedHTML .mne-repr-section-toggle > button {\n",
       "        padding: 0 0 45% 25% !important;\n",
       "    }\n",
       "    /* chevron color; MNE Report doesn't have light/dark mode */\n",
       "    div.output_html .mne-repr-section-toggle > button > svg > path,\n",
       "    .jp-RenderedHTML .mne-repr-section-toggle > button > svg > path {\n",
       "        fill: var(--mne-toggle-color);\n",
       "    }\n",
       "    .accordion-body .mne-ch-names-btn,\n",
       "    div.output_html .mne-ch-names-btn,\n",
       "    .jp-RenderedHTML .mne-ch-names-btn {\n",
       "        -webkit-border-radius: var(--mne-button-radius);\n",
       "        -moz-border-radius: var(--mne-button-radius);\n",
       "        border-radius: var(--mne-button-radius);\n",
       "        border: none;\n",
       "        background-image: none;\n",
       "        background-color: var(--mne-button-bg-color);\n",
       "        color: var(--mne-button-fg-color);\n",
       "        font-size: inherit;\n",
       "        min-width: 1.5rem;\n",
       "        padding: 0.25rem;\n",
       "        text-align: center;\n",
       "        text-decoration: none;\n",
       "    }\n",
       "    .accordion-body .mne-ch-names-btn:hover,\n",
       "    div.output_html .mne.ch-names-btn:hover,\n",
       "    .jp-RenderedHTML .mne-ch-names-btn:hover {\n",
       "        background-color: var(--mne-button-hover-bg-color);\n",
       "        text-decoration: underline;\n",
       "    }\n",
       "    .accordion-body .mne-ch-names-btn:focus-visible,\n",
       "    div.output_html .mne-ch-names-btn:focus-visible,\n",
       "    .jp-RenderedHTML .mne-ch-names-btn:focus-visible {\n",
       "        outline: 0.1875rem solid var(--mne-button-bg-color) !important;\n",
       "        outline-offset: 0.1875rem !important;\n",
       "    }\n",
       "}\n",
       "</style>\n",
       "\n",
       "\n",
       "\n",
       "<table class=\"table mne-repr-table\">\n",
       "    \n",
       "\n",
       "\n",
       "\n",
       "\n",
       "\n",
       "\n",
       "\n",
       "<tr class=\"mne-repr-section-header general-229bffbd-3df8-474e-92c5-f7931e018210\"\n",
       "     title=\"Hide section\" \n",
       "    onclick=\"toggleVisibility('general-229bffbd-3df8-474e-92c5-f7931e018210')\">\n",
       "    <th class=\"mne-repr-section-toggle\">\n",
       "        <button >\n",
       "            <svg xmlns=\"http://www.w3.org/2000/svg\" viewBox=\"0 0 512 512\"><!--!Font Awesome Free 6.6.0 by @fontawesome - https://fontawesome.com License - https://fontawesome.com/license/free Copyright 2024 Fonticons, Inc.--><path d=\"M233.4 406.6c12.5 12.5 32.8 12.5 45.3 0l192-192c12.5-12.5 12.5-32.8 0-45.3s-32.8-12.5-45.3 0L256 338.7 86.6 169.4c-12.5-12.5-32.8-12.5-45.3 0s-12.5 32.8 0 45.3l192 192z\"/></svg>\n",
       "        </button>\n",
       "    </th>\n",
       "    <th colspan=\"2\">\n",
       "        <strong>General</strong>\n",
       "    </th>\n",
       "</tr>\n",
       "\n",
       "\n",
       "<tr class=\"repr-element general-229bffbd-3df8-474e-92c5-f7931e018210 \">\n",
       "    <td class=\"mne-repr-section-toggle\"></td>\n",
       "    <td>MNE object type</td>\n",
       "    <td>EvokedArray</td>\n",
       "</tr>\n",
       "<tr class=\"repr-element general-229bffbd-3df8-474e-92c5-f7931e018210 \">\n",
       "    <td class=\"mne-repr-section-toggle\"></td>\n",
       "    <td>Measurement date</td>\n",
       "    \n",
       "    <td>Unknown</td>\n",
       "    \n",
       "</tr>\n",
       "<tr class=\"repr-element general-229bffbd-3df8-474e-92c5-f7931e018210 \">\n",
       "    <td class=\"mne-repr-section-toggle\"></td>\n",
       "    <td>Participant</td>\n",
       "    \n",
       "    <td>Unknown</td>\n",
       "    \n",
       "</tr>\n",
       "<tr class=\"repr-element general-229bffbd-3df8-474e-92c5-f7931e018210 \">\n",
       "    <td class=\"mne-repr-section-toggle\"></td>\n",
       "    <td>Experimenter</td>\n",
       "    \n",
       "    <td>Unknown</td>\n",
       "    \n",
       "</tr>\n",
       "    \n",
       "\n",
       "\n",
       "\n",
       "\n",
       "\n",
       "\n",
       "\n",
       "<tr class=\"mne-repr-section-header acquisition-e480768a-fac6-4a6f-95e0-aec8dc75029c\"\n",
       "     title=\"Hide section\" \n",
       "    onclick=\"toggleVisibility('acquisition-e480768a-fac6-4a6f-95e0-aec8dc75029c')\">\n",
       "    <th class=\"mne-repr-section-toggle\">\n",
       "        <button >\n",
       "            <svg xmlns=\"http://www.w3.org/2000/svg\" viewBox=\"0 0 512 512\"><!--!Font Awesome Free 6.6.0 by @fontawesome - https://fontawesome.com License - https://fontawesome.com/license/free Copyright 2024 Fonticons, Inc.--><path d=\"M233.4 406.6c12.5 12.5 32.8 12.5 45.3 0l192-192c12.5-12.5 12.5-32.8 0-45.3s-32.8-12.5-45.3 0L256 338.7 86.6 169.4c-12.5-12.5-32.8-12.5-45.3 0s-12.5 32.8 0 45.3l192 192z\"/></svg>\n",
       "        </button>\n",
       "    </th>\n",
       "    <th colspan=\"2\">\n",
       "        <strong>Acquisition</strong>\n",
       "    </th>\n",
       "</tr>\n",
       "\n",
       "\n",
       "\n",
       "<tr class=\"repr-element acquisition-e480768a-fac6-4a6f-95e0-aec8dc75029c \">\n",
       "    <td class=\"mne-repr-section-toggle\"></td>\n",
       "    <td>Aggregation</td>\n",
       "    \n",
       "    <td>average of 1 epochs</td>\n",
       "    \n",
       "</tr>\n",
       "\n",
       "\n",
       "<tr class=\"repr-element acquisition-e480768a-fac6-4a6f-95e0-aec8dc75029c \">\n",
       "    <td class=\"mne-repr-section-toggle\"></td>\n",
       "    <td>Condition</td>\n",
       "    <td></td>\n",
       "</tr>\n",
       "\n",
       "\n",
       "\n",
       "\n",
       "<tr class=\"repr-element acquisition-e480768a-fac6-4a6f-95e0-aec8dc75029c \">\n",
       "    <td class=\"mne-repr-section-toggle\"></td>\n",
       "    <td>Time range</td>\n",
       "    <td>0.000 – 0.598 s</td>\n",
       "</tr>\n",
       "\n",
       "\n",
       "<tr class=\"repr-element acquisition-e480768a-fac6-4a6f-95e0-aec8dc75029c \">\n",
       "    <td class=\"mne-repr-section-toggle\"></td>\n",
       "    <td>Baseline</td>\n",
       "    <td>off</td>\n",
       "</tr>\n",
       "\n",
       "\n",
       "<tr class=\"repr-element acquisition-e480768a-fac6-4a6f-95e0-aec8dc75029c \">\n",
       "    <td class=\"mne-repr-section-toggle\"></td>\n",
       "    <td>Sampling frequency</td>\n",
       "    <td>512.00 Hz</td>\n",
       "</tr>\n",
       "\n",
       "\n",
       "<tr class=\"repr-element acquisition-e480768a-fac6-4a6f-95e0-aec8dc75029c \">\n",
       "    <td class=\"mne-repr-section-toggle\"></td>\n",
       "    <td>Time points</td>\n",
       "    <td>307</td>\n",
       "</tr>\n",
       "\n",
       "\n",
       "    \n",
       "\n",
       "\n",
       "\n",
       "\n",
       "\n",
       "\n",
       "\n",
       "<tr class=\"mne-repr-section-header channels-dd88a2bd-0c14-4242-a16f-b1f49e567728\"\n",
       "     title=\"Hide section\" \n",
       "    onclick=\"toggleVisibility('channels-dd88a2bd-0c14-4242-a16f-b1f49e567728')\">\n",
       "    <th class=\"mne-repr-section-toggle\">\n",
       "        <button >\n",
       "            <svg xmlns=\"http://www.w3.org/2000/svg\" viewBox=\"0 0 512 512\"><!--!Font Awesome Free 6.6.0 by @fontawesome - https://fontawesome.com License - https://fontawesome.com/license/free Copyright 2024 Fonticons, Inc.--><path d=\"M233.4 406.6c12.5 12.5 32.8 12.5 45.3 0l192-192c12.5-12.5 12.5-32.8 0-45.3s-32.8-12.5-45.3 0L256 338.7 86.6 169.4c-12.5-12.5-32.8-12.5-45.3 0s-12.5 32.8 0 45.3l192 192z\"/></svg>\n",
       "        </button>\n",
       "    </th>\n",
       "    <th colspan=\"2\">\n",
       "        <strong>Channels</strong>\n",
       "    </th>\n",
       "</tr>\n",
       "\n",
       "\n",
       "    \n",
       "<tr class=\"repr-element channels-dd88a2bd-0c14-4242-a16f-b1f49e567728 \">\n",
       "    <td class=\"mne-repr-section-toggle\"></td>\n",
       "    <td>EEG</td>\n",
       "    <td>\n",
       "        <button class=\"mne-ch-names-btn sd-sphinx-override sd-btn sd-btn-info sd-text-wrap sd-shadow-sm\" onclick=\"alert('Good EEG:\\n\\nFp1, AF3, F7, F3, FC1, FC5, T7, C3, CP1, CP5, P7, P3, Pz, PO3, O1, Oz, O2, PO4, P4, P8, CP6, CP2, C4, T8, FC6, FC2, F4, F8, AF4, Fp2, Fz, Cz')\" title=\"(Click to open in popup)&#13;&#13;Fp1, AF3, F7, F3, FC1, FC5, T7, C3, CP1, CP5, P7, P3, Pz, PO3, O1, Oz, O2, PO4, P4, P8, CP6, CP2, C4, T8, FC6, FC2, F4, F8, AF4, Fp2, Fz, Cz\">\n",
       "            32\n",
       "        </button>\n",
       "\n",
       "        \n",
       "    </td>\n",
       "</tr>\n",
       "\n",
       "\n",
       "<tr class=\"repr-element channels-dd88a2bd-0c14-4242-a16f-b1f49e567728 \">\n",
       "    <td class=\"mne-repr-section-toggle\"></td>\n",
       "    <td>Head & sensor digitization</td>\n",
       "    \n",
       "    <td>35 points</td>\n",
       "    \n",
       "</tr>\n",
       "    \n",
       "\n",
       "\n",
       "\n",
       "\n",
       "\n",
       "\n",
       "\n",
       "<tr class=\"mne-repr-section-header filters-555f1c2d-4b04-4676-8fe5-0f8377526481\"\n",
       "     title=\"Hide section\" \n",
       "    onclick=\"toggleVisibility('filters-555f1c2d-4b04-4676-8fe5-0f8377526481')\">\n",
       "    <th class=\"mne-repr-section-toggle\">\n",
       "        <button >\n",
       "            <svg xmlns=\"http://www.w3.org/2000/svg\" viewBox=\"0 0 512 512\"><!--!Font Awesome Free 6.6.0 by @fontawesome - https://fontawesome.com License - https://fontawesome.com/license/free Copyright 2024 Fonticons, Inc.--><path d=\"M233.4 406.6c12.5 12.5 32.8 12.5 45.3 0l192-192c12.5-12.5 12.5-32.8 0-45.3s-32.8-12.5-45.3 0L256 338.7 86.6 169.4c-12.5-12.5-32.8-12.5-45.3 0s-12.5 32.8 0 45.3l192 192z\"/></svg>\n",
       "        </button>\n",
       "    </th>\n",
       "    <th colspan=\"2\">\n",
       "        <strong>Filters</strong>\n",
       "    </th>\n",
       "</tr>\n",
       "\n",
       "\n",
       "<tr class=\"repr-element filters-555f1c2d-4b04-4676-8fe5-0f8377526481 \">\n",
       "    <td class=\"mne-repr-section-toggle\"></td>\n",
       "    <td>Highpass</td>\n",
       "    <td>0.00 Hz</td>\n",
       "</tr>\n",
       "\n",
       "\n",
       "<tr class=\"repr-element filters-555f1c2d-4b04-4676-8fe5-0f8377526481 \">\n",
       "    <td class=\"mne-repr-section-toggle\"></td>\n",
       "    <td>Lowpass</td>\n",
       "    <td>256.00 Hz</td>\n",
       "</tr>\n",
       "\n",
       "\n",
       "</table>"
      ],
      "text/plain": [
       "<Evoked | '' (average, N=1), 0 – 0.59766 s, baseline off, 32 ch, ~125 KiB>"
      ]
     },
     "execution_count": 17,
     "metadata": {},
     "output_type": "execute_result"
    }
   ],
   "source": [
    "biosemi_montage = mne.channels.make_standard_montage('biosemi32')\n",
    "fake_info = mne.create_info(ch_names=biosemi_montage.ch_names, sfreq=512.,\n",
    "                            ch_types='eeg')\n",
    "\n",
    "fake_evoked = mne.EvokedArray(avg_target, fake_info)\n",
    "fake_evoked.set_montage(biosemi_montage)"
   ]
  },
  {
   "cell_type": "code",
   "execution_count": 18,
   "metadata": {
    "colab": {
     "base_uri": "https://localhost:8080/",
     "height": 255
    },
    "executionInfo": {
     "elapsed": 564,
     "status": "ok",
     "timestamp": 1630417193201,
     "user": {
      "displayName": "Kyungho Won",
      "photoUrl": "https://lh3.googleusercontent.com/a-/AOh14GjFDtLYzIB3ExPPuLRrY7LEt8jAOx_pz5B5UU4z1Q=s64",
      "userId": "05826323827943571801"
     },
     "user_tz": -540
    },
    "id": "qTX7j1xXV8C1",
    "outputId": "159187de-13c9-4ed8-e179-b067786f397e"
   },
   "outputs": [
    {
     "data": {
      "text/plain": [
       "Text(0.5, 1.0, 'MNE')"
      ]
     },
     "execution_count": 18,
     "metadata": {},
     "output_type": "execute_result"
    },
    {
     "data": {
      "image/png": "[encoded data removed]",
      "text/plain": [
       "<Figure size 800x400 with 2 Axes>"
      ]
     },
     "metadata": {},
     "output_type": "display_data"
    }
   ],
   "source": [
    "# create a two-panel figure with some space for the titles at the top\n",
    "fig, ax = plt.subplots(ncols=2, figsize=(8, 4), gridspec_kw=dict(top=0.9),\n",
    "                       sharex=True, sharey=True)\n",
    "# we plot the channel positions with default sphere - the mne way\n",
    "fake_evoked.plot_sensors(axes=ax[0], show=False, show_names=True)\n",
    "# add titles\n",
    "ax[0].set_title('MNE channel projection', fontweight='bold')\n",
    "\n",
    "mne.viz.plot_topomap(np.mean(fake_evoked.data, axis=1), fake_evoked.info, axes=ax[1], show=False)\n",
    "ax[1].set_title('MNE', fontweight='bold')"
   ]
  },
  {
   "cell_type": "markdown",
   "metadata": {
    "id": "pLA8dkAj_sRm"
   },
   "source": [
    "P300 speller letter detect "
   ]
  },
  {
   "cell_type": "code",
   "execution_count": 19,
   "metadata": {
    "colab": {
     "base_uri": "https://localhost:8080/"
    },
    "executionInfo": {
     "elapsed": 1377,
     "status": "ok",
     "timestamp": 1630911163856,
     "user": {
      "displayName": "Kyungho Won",
      "photoUrl": "https://lh3.googleusercontent.com/a-/AOh14GjFDtLYzIB3ExPPuLRrY7LEt8jAOx_pz5B5UU4z1Q=s64",
      "userId": "05826323827943571801"
     },
     "user_tz": -540
    },
    "id": "9RhlEOSw_vem",
    "outputId": "13442efe-2fca-4915-94cb-1dfd03d5d27d"
   },
   "outputs": [],
   "source": [
    "import statsmodels.api as sm\n",
    "from sklearn.linear_model import LinearRegression"
   ]
  },
  {
   "cell_type": "code",
   "execution_count": 20,
   "metadata": {
    "executionInfo": {
     "elapsed": 691,
     "status": "ok",
     "timestamp": 1630915476969,
     "user": {
      "displayName": "Kyungho Won",
      "photoUrl": "https://lh3.googleusercontent.com/a-/AOh14GjFDtLYzIB3ExPPuLRrY7LEt8jAOx_pz5B5UU4z1Q=s64",
      "userId": "05826323827943571801"
     },
     "user_tz": -540
    },
    "id": "H1WwCToJKvlo"
   },
   "outputs": [],
   "source": [
    "def decimation_by_avg(data, factor):\n",
    "  \"\"\"Function for replacing each sequence of previous factor samples with their average\"\"\"\n",
    "  # for example, frame [0, 800]ms -> 17samples (Krusienski et al., 2006)\n",
    "  # data.shape = [ch, time, trial]\n",
    "  ratio_dsample = factor\n",
    "  n_ch, n_frame, n_trial = data.shape\n",
    "\n",
    "  #print(n_frame)\n",
    "  decimated_frame = int(np.floor(n_frame/ratio_dsample))\n",
    "  #print(decimated_frame)\n",
    "\n",
    "  # memory pre-allocation\n",
    "  decimated_data = np.zeros((n_ch, decimated_frame, n_trial))\n",
    "  #print(decimated_data.shape)\n",
    "\n",
    "  for i in range(n_trial):\n",
    "    for j in range(decimated_frame):\n",
    "      cur_data = data[:, :, i]\n",
    "      decimated_data[:, j, i] = np.mean(cur_data[:, j*ratio_dsample:(j+1)*ratio_dsample], axis=1)\n",
    "\n",
    "  return decimated_data\n",
    "\n",
    "\n",
    "down_target = decimation_by_avg(targetEEG, 24)\n",
    "down_nontarget = decimation_by_avg(nontargetEEG, 24)\n",
    "\n",
    "ch_target, frame_target, trial_target = down_target.shape\n",
    "ch_nontarget, frame_nontarget, tiral_nontarget = down_nontarget.shape\n",
    "feat_target = np.reshape(down_target, (ch_target*frame_target, trial_target))\n",
    "feat_nontarget = np.reshape(down_nontarget, (ch_nontarget*frame_nontarget, tiral_nontarget))\n",
    "\n",
    "# feature: [n_samples, n_features]\n",
    "feat_target = feat_target.transpose() \n",
    "feat_nontarget = feat_nontarget.transpose()\n",
    "# y: 1 for target and -1 for nontarget\n",
    "y_target = np.ones((feat_target.shape[0],1))\n",
    "y_nontarget = -np.ones((feat_nontarget.shape[0],1))\n",
    "\n",
    "feat_train = np.vstack((feat_target, feat_nontarget))\n",
    "y_train = np.vstack((y_target, y_nontarget))\n",
    "\n",
    "idx_train = np.arange(feat_train.shape[0])\n",
    "np.random.shuffle(idx_train)\n",
    "\n",
    "feat_train = feat_train[idx_train, :]\n",
    "y_train = y_train[idx_train, :]"
   ]
  },
  {
   "cell_type": "markdown",
   "metadata": {
    "id": "7X6EbcE7P6BL"
   },
   "source": [
    "# **Train linear classifier and save the model**"
   ]
  },
  {
   "cell_type": "code",
   "execution_count": 21,
   "metadata": {
    "colab": {
     "base_uri": "https://localhost:8080/"
    },
    "executionInfo": {
     "elapsed": 44079,
     "status": "ok",
     "timestamp": 1630915524010,
     "user": {
      "displayName": "Kyungho Won",
      "photoUrl": "https://lh3.googleusercontent.com/a-/AOh14GjFDtLYzIB3ExPPuLRrY7LEt8jAOx_pz5B5UU4z1Q=s64",
      "userId": "05826323827943571801"
     },
     "user_tz": -540
    },
    "id": "SxfmJp9JdnkZ",
    "outputId": "b24b40f1-9b3e-4343-dbf5-0249c6063532"
   },
   "outputs": [
    {
     "name": "stdout",
     "output_type": "stream",
     "text": [
      "(368,)\n",
      "0.07863701067910525\n"
     ]
    }
   ],
   "source": [
    "def get_stats(dat, x_columns, y):\n",
    "  x = dat[:, x_columns]\n",
    "  results = sm.OLS(y, x).fit() # OLS: ordinary least-square\n",
    "  #print(results.summary())\n",
    "  return results\n",
    "\n",
    "# stepwisefit in Matlab for Won2021 - penter: 0.08, <premove: 0.1>, select the best 60 features only\n",
    "x_column = np.array(range(feat_train.shape[1]))\n",
    "while True:\n",
    "  #print(x_column.shape)\n",
    "  results_stats = get_stats(feat_train, x_column, y_train)\n",
    "  if np.max(results_stats.pvalues) <= 0.08:\n",
    "    break\n",
    "  else:\n",
    "    backward_elim = np.array(np.where(results_stats.pvalues == np.max(results_stats.pvalues)))\n",
    "    x_column = np.delete(x_column, backward_elim)\n",
    "\n",
    "print(x_column.shape)\n",
    "print(np.max(results_stats.pvalues))"
   ]
  },
  {
   "cell_type": "code",
   "execution_count": 22,
   "metadata": {
    "executionInfo": {
     "elapsed": 293,
     "status": "ok",
     "timestamp": 1630915532390,
     "user": {
      "displayName": "Kyungho Won",
      "photoUrl": "https://lh3.googleusercontent.com/a-/AOh14GjFDtLYzIB3ExPPuLRrY7LEt8jAOx_pz5B5UU4z1Q=s64",
      "userId": "05826323827943571801"
     },
     "user_tz": -540
    },
    "id": "BmXFkh0R3KKL"
   },
   "outputs": [],
   "source": [
    "argsort_pval = np.argsort(results_stats.pvalues)\n",
    "x_column = x_column[argsort_pval[range(60)]]"
   ]
  },
  {
   "cell_type": "code",
   "execution_count": 23,
   "metadata": {
    "colab": {
     "base_uri": "https://localhost:8080/"
    },
    "executionInfo": {
     "elapsed": 286,
     "status": "ok",
     "timestamp": 1630915535849,
     "user": {
      "displayName": "Kyungho Won",
      "photoUrl": "https://lh3.googleusercontent.com/a-/AOh14GjFDtLYzIB3ExPPuLRrY7LEt8jAOx_pz5B5UU4z1Q=s64",
      "userId": "05826323827943571801"
     },
     "user_tz": -540
    },
    "id": "1KNj8_C1p2f5",
    "outputId": "6ec160b5-b7e4-4c0e-98ab-51cf0c2cfa11"
   },
   "outputs": [
    {
     "name": "stdout",
     "output_type": "stream",
     "text": [
      "(5040, 60)\n"
     ]
    },
    {
     "data": {
      "text/plain": [
       "np.float64(0.8571428571428571)"
      ]
     },
     "execution_count": 23,
     "metadata": {},
     "output_type": "execute_result"
    }
   ],
   "source": [
    "feat_train_select = feat_train[:, x_column]\n",
    "print(feat_train_select.shape)\n",
    "# Linear regression\n",
    "linear_model = LinearRegression()\n",
    "linear_model.fit(feat_train_select, y_train)\n",
    "\n",
    "pred_train = np.sign(linear_model.predict(feat_train_select))\n",
    "np.sum(pred_train==y_train) / len(pred_train)"
   ]
  },
  {
   "cell_type": "code",
   "execution_count": 24,
   "metadata": {
    "executionInfo": {
     "elapsed": 268,
     "status": "ok",
     "timestamp": 1630915545616,
     "user": {
      "displayName": "Kyungho Won",
      "photoUrl": "https://lh3.googleusercontent.com/a-/AOh14GjFDtLYzIB3ExPPuLRrY7LEt8jAOx_pz5B5UU4z1Q=s64",
      "userId": "05826323827943571801"
     },
     "user_tz": -540
    },
    "id": "HJnpzL364zof"
   },
   "outputs": [],
   "source": [
    "# Save the trained linear model and the selected x_column\n",
    "\n",
    "mdl = {\"linear\": linear_model, \"feat_column\": x_column}\n",
    "# Save\n",
    "nsb = 1\n",
    "fname = f's{nsb}.npy'\n",
    "np.save(fname, mdl) \n",
    "\n",
    "# Load\n",
    "read_mdl = np.load(fname,allow_pickle='TRUE').item()"
   ]
  },
  {
   "cell_type": "code",
   "execution_count": 25,
   "metadata": {
    "colab": {
     "base_uri": "https://localhost:8080/"
    },
    "executionInfo": {
     "elapsed": 295,
     "status": "ok",
     "timestamp": 1630911817540,
     "user": {
      "displayName": "Kyungho Won",
      "photoUrl": "https://lh3.googleusercontent.com/a-/AOh14GjFDtLYzIB3ExPPuLRrY7LEt8jAOx_pz5B5UU4z1Q=s64",
      "userId": "05826323827943571801"
     },
     "user_tz": -540
    },
    "id": "M1avqAX96znO",
    "outputId": "ef5005f5-cb6d-4a8f-9047-f646e54b9d7d"
   },
   "outputs": [
    {
     "data": {
      "text/plain": [
       "dict_keys(['chanlocs', 'data', 'markers_seq', 'markers_target', 'nbTrials', 'nbTrials_nontarget', 'nbTrials_target', 'online_acc', 'srate', 'text_result', 'text_to_spell'])"
      ]
     },
     "execution_count": 25,
     "metadata": {},
     "output_type": "execute_result"
    }
   ],
   "source": [
    "EEG['test'][0].keys()"
   ]
  },
  {
   "cell_type": "markdown",
   "metadata": {
    "id": "R0FlgR6N3Sn2"
   },
   "source": [
    "# **Letter detection accruacy - using the trained classifier and unknown data**"
   ]
  },
  {
   "cell_type": "code",
   "execution_count": 26,
   "metadata": {
    "executionInfo": {
     "elapsed": 250,
     "status": "ok",
     "timestamp": 1630911890424,
     "user": {
      "displayName": "Kyungho Won",
      "photoUrl": "https://lh3.googleusercontent.com/a-/AOh14GjFDtLYzIB3ExPPuLRrY7LEt8jAOx_pz5B5UU4z1Q=s64",
      "userId": "05826323827943571801"
     },
     "user_tz": -540
    },
    "id": "PSFaxyxY7Hxf"
   },
   "outputs": [],
   "source": [
    "# Ingredients for P300 speller\n",
    "spellermatrix = ['A', 'B', 'C', 'D', 'E', 'F', \n",
    "                 'G', 'H', 'I', 'J', 'K', 'L',\n",
    "                 'M', 'N', 'O', 'P', 'Q', 'R',\n",
    "                 'S', 'T', 'U', 'V', 'W', 'X',\n",
    "                 'Y', 'Z', '1', '2', '3', '4',\n",
    "                 '5', '6', '7', '8', '9', '_']\n",
    "Config_P3speller = {\"seq_code\": range(1,13), \"full_repeat\": 15, \"spellermatrix\": spellermatrix}\n",
    "Params_P3speller = {\"freq\": [0.5, 10], \"frame\": [0, 600], \"baseline\": [-200, 0], \"select_ch\": range(1, 33)}"
   ]
  },
  {
   "cell_type": "code",
   "execution_count": 28,
   "metadata": {
    "executionInfo": {
     "elapsed": 254,
     "status": "ok",
     "timestamp": 1630917228602,
     "user": {
      "displayName": "Kyungho Won",
      "photoUrl": "https://lh3.googleusercontent.com/a-/AOh14GjFDtLYzIB3ExPPuLRrY7LEt8jAOx_pz5B5UU4z1Q=s64",
      "userId": "05826323827943571801"
     },
     "user_tz": -540
    },
    "id": "fKhxV_KCPeqe"
   },
   "outputs": [],
   "source": [
    "def detect_letter_P3speller(pred_score, word_len, label, letter_ind, markers_seq, params):\n",
    "  \"\"\"Function for detecing letter from the predicted results from unknown EEG\"\"\"\n",
    "  user_answer = np.chararray(word_len,1)\n",
    "  acc_on_repetition = np.zeros(params[\"full_repeat\"])\n",
    "  correct_on_repetition = np.zeros(params[\"full_repeat\"])\n",
    "  for n_repeat in range(params[\"full_repeat\"]):\n",
    "    for n_letter in range(word_len):\n",
    "      # begin and end trial for a single letter session\n",
    "      begin_trial = len(params[\"seq_code\"]) * params[\"full_repeat\"] * (n_letter)\n",
    "      end_trial = begin_trial + (n_repeat+1) * len(params[\"seq_code\"])\n",
    "\n",
    "      unknown_speller_code = np.zeros(len(params[\"seq_code\"]))\n",
    "      for j in range(begin_trial, end_trial):\n",
    "        # predict and add lda score\n",
    "        unknown_speller_code[int(markers_seq[letter_ind[j]])-1] = unknown_speller_code[int(markers_seq[letter_ind[j]])-1] + pred_score[j]\n",
    "\n",
    "        row = np.argmax(unknown_speller_code[0:6])\n",
    "        col = np.argmax(unknown_speller_code[6:12])\n",
    "        user_answer[n_letter] = params['spellermatrix'][row*6+col]\n",
    "        user_answer_string = user_answer.tobytes().decode('utf-8')\n",
    "    \n",
    "    correct_on_repetition[n_repeat] = len([i for i, j in zip(user_answer_string, label) if i == j])\n",
    "    acc_on_repetition[n_repeat] = correct_on_repetition[n_repeat] / len(label)\n",
    "\n",
    "  out = {\"text_result\": user_answer_string, \"acc_on_repetition\": acc_on_repetition, \"correct_on_repetition\": correct_on_repetition}\n",
    "  return out"
   ]
  },
  {
   "cell_type": "code",
   "execution_count": 31,
   "metadata": {},
   "outputs": [],
   "source": [
    "import warnings\n",
    "warnings.filterwarnings(\"ignore\", category=DeprecationWarning)"
   ]
  },
  {
   "cell_type": "code",
   "execution_count": 32,
   "metadata": {
    "colab": {
     "base_uri": "https://localhost:8080/"
    },
    "executionInfo": {
     "elapsed": 5065,
     "status": "ok",
     "timestamp": 1630917286498,
     "user": {
      "displayName": "Kyungho Won",
      "photoUrl": "https://lh3.googleusercontent.com/a-/AOh14GjFDtLYzIB3ExPPuLRrY7LEt8jAOx_pz5B5UU4z1Q=s64",
      "userId": "05826323827943571801"
     },
     "user_tz": -540
    },
    "id": "GrURbpa8qN0U",
    "outputId": "c7eddd80-79dd-4361-bdf5-190d9564447d"
   },
   "outputs": [
    {
     "name": "stdout",
     "output_type": "stream",
     "text": [
      "User answer: SUBJECT (7/7), accuracy: 1.0\n",
      "User answer: NEURONS (7/7), accuracy: 1.0\n",
      "User answer: IMAGINE (7/7), accuracy: 1.0\n",
      "User answer: QUALITG (6/7), accuracy: 0.8571428571428571\n"
     ]
    }
   ],
   "source": [
    "read_mdl = np.load(fname,allow_pickle='TRUE').item()\n",
    "\n",
    "for n_test in range(len(EEG['test'])):\n",
    "  cur_eeg = EEG['test'][n_test]\n",
    "  data = np.asarray(cur_eeg['data'])\n",
    "  srate = cur_eeg['srate']\n",
    "  data = butter_bandpass_filter(data, 0.5, 10, srate, 4)\n",
    "  markers = cur_eeg['markers_target']\n",
    "  word_len = int(cur_eeg['nbTrials'] / (len(Config_P3speller['seq_code'])*Config_P3speller['full_repeat']))\n",
    "\n",
    "  markers_seq = cur_eeg['markers_seq']\n",
    "  letter_idx = np.where(np.isin(markers_seq, Config_P3speller['seq_code']))[0]\n",
    "\n",
    "  unknownEEG = extractEpoch3D(data, letter_idx, srate, baseline, frame, False)\n",
    "  down_unknown = decimation_by_avg(unknownEEG, 24)\n",
    "  ch_unknown, frame_unknown, trial_unnknown = down_unknown.shape\n",
    "  feat_unknown = np.reshape(down_unknown, (ch_unknown*frame_unknown, trial_unnknown))\n",
    "  feat_unknown = feat_unknown.transpose()\n",
    "\n",
    "  # opt - calculate the all classification results from feat_unknown\n",
    "  pred_unknown = read_mdl['linear'].predict(feat_unknown[:, read_mdl['feat_column']]) # your answers\n",
    "\n",
    "  ans_letters = detect_letter_P3speller(pred_unknown, word_len, cur_eeg['text_to_spell'], letter_idx, markers_seq, Config_P3speller);\n",
    "  cur_text_result = ans_letters['text_result']\n",
    "  print(f\"User answer: {cur_text_result} ({int(ans_letters['correct_on_repetition'][-1])}/{int(word_len)}), accuracy: {ans_letters['acc_on_repetition'][-1]}\")\n"
   ]
  },
  {
   "cell_type": "code",
   "execution_count": null,
   "metadata": {
    "id": "JcvVhGsrPsTc"
   },
   "outputs": [],
   "source": []
  }
 ],
 "metadata": {
  "colab": {
   "authorship_tag": "ABX9TyMMt3IkLk9KLEdhIFhdgCaO",
   "collapsed_sections": [],
   "mount_file_id": "1fApMdG2dmDpwcuK6UyKSUDM1fqpVxzrK",
   "name": "Load_Won2021dataset.ipynb",
   "provenance": []
  },
  "kernelspec": {
   "display_name": "p300env",
   "language": "python",
   "name": "python3"
  },
  "language_info": {
   "codemirror_mode": {
    "name": "ipython",
    "version": 3
   },
   "file_extension": ".py",
   "mimetype": "text/x-python",
   "name": "python",
   "nbconvert_exporter": "python",
   "pygments_lexer": "ipython3",
   "version": "3.10.5"
  },
  "toc": {
   "base_numbering": 1,
   "nav_menu": {},
   "number_sections": true,
   "sideBar": true,
   "skip_h1_title": false,
   "title_cell": "Table of Contents",
   "title_sidebar": "Contents",
   "toc_cell": false,
   "toc_position": {},
   "toc_section_display": true,
   "toc_window_display": false
  },
  "varInspector": {
   "cols": {
    "lenName": 16,
    "lenType": 16,
    "lenVar": 40
   },
   "kernels_config": {
    "python": {
     "delete_cmd_postfix": "",
     "delete_cmd_prefix": "del ",
     "library": "var_list.py",
     "varRefreshCmd": "print(var_dic_list())"
    },
    "r": {
     "delete_cmd_postfix": ") ",
     "delete_cmd_prefix": "rm(",
     "library": "var_list.r",
     "varRefreshCmd": "cat(var_dic_list()) "
    }
   },
   "types_to_exclude": [
    "module",
    "function",
    "builtin_function_or_method",
    "instance",
    "_Feature"
   ],
   "window_display": false
  }
 },
 "nbformat": 4,
 "nbformat_minor": 1
}
